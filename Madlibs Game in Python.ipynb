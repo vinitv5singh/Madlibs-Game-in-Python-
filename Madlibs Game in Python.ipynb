{
 "cells": [
  {
   "cell_type": "code",
   "execution_count": null,
   "id": "d0413302-b46e-4c39-97d5-f1135621ea27",
   "metadata": {},
   "outputs": [],
   "source": [
    "#string concatenation i.e how to print strings together\n",
    "#suppose we want to create a string that says \"subscrice to _______\""
   ]
  },
  {
   "cell_type": "code",
   "execution_count": 1,
   "id": "a8c3c3f2-6c57-48b0-94ce-8c20e6a3d06f",
   "metadata": {},
   "outputs": [
    {
     "name": "stdout",
     "output_type": "stream",
     "text": [
      "Subscribe to Vinit Singh\n",
      "Subscribe to Vinit Singh\n",
      "Subscribe to Vinit Singh\n"
     ]
    }
   ],
   "source": [
    "youtuber=\"Vinit Singh\"\n",
    "print(\"Subscribe to \" + youtuber)\n",
    "print(\"Subscribe to {}\".format(youtuber))\n",
    "print(f\"Subscribe to {youtuber}\")\n"
   ]
  },
  {
   "cell_type": "code",
   "execution_count": null,
   "id": "b60e02eb-e743-43de-89b9-5fa3ad24d84e",
   "metadata": {},
   "outputs": [],
   "source": [
    "'''Mad Libs (a play on ad lib, from Latin ad libitum - as you wish) is a word game where one player \n",
    "prompts another for a list of words to substitute for blanks in a story; these word substitutions \n",
    "have a humorous effect when the resulting story is then read aloud.'''\n"
   ]
  },
  {
   "cell_type": "code",
   "execution_count": 6,
   "id": "b3c34d44-2999-429d-aa5a-e0ed855d5941",
   "metadata": {},
   "outputs": [
    {
     "name": "stdin",
     "output_type": "stream",
     "text": [
      "Adjective :  exciting\n",
      "Verb:  code\n",
      "Verb:  be cool\n",
      "Famous person:  Bill Gates\n",
      "Enter name :  Vinit\n",
      "Enter class : 12\n",
      "Hobby1 :  reading books\n",
      "Hobby2 :  driving car\n",
      "Enter city in which you live :  Bhopal\n"
     ]
    },
    {
     "name": "stdout",
     "output_type": "stream",
     "text": [
      "Computer programming is so exciting! It makes me so excited all the time because I love to code. Stay hydrated and be cool like you are Bill Gates!\n",
      "\n",
      "Hello!! Myself Vinit and I am studying in class 12. My hobbies are reading books and driving car. I am from Bhopal.\n"
     ]
    }
   ],
   "source": [
    "adj=input(\"Adjective : \")\n",
    "\n",
    "verb1 = input(\"Verb: \")\n",
    "verb2 = input(\"Verb: \")\n",
    "\n",
    "famous_person = input(\"Famous person: \")\n",
    "\n",
    "\n",
    "\n",
    "madlib = f\"Computer programming is so {adj}! It makes me so excited all the time because \\\n",
    "I love to {verb1}. Stay hydrated and {verb2} like you are {famous_person}!\"\n",
    "\n",
    "\n",
    "name=input(\"Enter name : \")\n",
    "cl=input(\"Enter class :\")\n",
    "h1=input(\"Hobby1 : \")\n",
    "h2=input(\"Hobby2 : \")\n",
    "city=input(\"Enter city in which you live : \")\n",
    "madlib1= f\"Hello!! Myself {name} and I am studying in class {cl}. My hobbies are \\\n",
    "{h1} and {h2}. I am from {city}.\"\n",
    "\n",
    "print(madlib)\n",
    "print(\"\")\n",
    "print(madlib1)\n"
   ]
  },
  {
   "cell_type": "code",
   "execution_count": null,
   "id": "0ee39262-c361-4de5-b98f-03d8dc0488dc",
   "metadata": {},
   "outputs": [],
   "source": []
  }
 ],
 "metadata": {
  "kernelspec": {
   "display_name": "Python 3 (ipykernel)",
   "language": "python",
   "name": "python3"
  },
  "language_info": {
   "codemirror_mode": {
    "name": "ipython",
    "version": 3
   },
   "file_extension": ".py",
   "mimetype": "text/x-python",
   "name": "python",
   "nbconvert_exporter": "python",
   "pygments_lexer": "ipython3",
   "version": "3.12.1"
  }
 },
 "nbformat": 4,
 "nbformat_minor": 5
}
